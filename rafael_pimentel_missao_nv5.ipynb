{
  "nbformat": 4,
  "nbformat_minor": 0,
  "metadata": {
    "colab": {
      "provenance": []
    },
    "kernelspec": {
      "name": "python3",
      "display_name": "Python 3"
    },
    "language_info": {
      "name": "python"
    }
  },
  "cells": [
    {
      "cell_type": "code",
      "source": [],
      "metadata": {
        "id": "810g6zv7QP8C"
      },
      "execution_count": null,
      "outputs": []
    },
    {
      "cell_type": "markdown",
      "source": [
        "![image](https://user-images.githubusercontent.com/104402733/190884763-56a3f373-8101-49fc-b21c-965b8ea30e36.png)\n",
        "\n",
        "# Campus Cascavel-PR - Graduaçao Full Stack\n",
        "\n",
        "# Materia: Nível 5 Colocando Tudo em Ordem e Guardando\n",
        "# Turma: Turma 22.3 - 1º semestre\n",
        "# Instituiçao: Estacio de Sá\n",
        "# Aluno: Rafael Souza Pimentel\n",
        "# Matricula: 202211331881\n",
        "\n",
        "## Missão Prática Nivel 5\n",
        "\n",
        "# **OBJETIVO**\n",
        "\n",
        "Gravar e recuperar dados de arquivos textos. Manipular os dados para visualizá-los em um histograma e uma nuvem de palavras. Implementar um programa para gerar dados com nomes de pessoas e respectivas pontuações, gravas em um arquivo, recuperar os dados do arquivo, visualizar os dados das pontuações das pessoas em um histograma e em uma nuvem de palavras."
      ],
      "metadata": {
        "id": "4eU1nTcdD99U"
      }
    },
    {
      "cell_type": "markdown",
      "source": [
        "# **Instalação dos Módulos**"
      ],
      "metadata": {
        "id": "Fgx3py-TFjtx"
      }
    },
    {
      "cell_type": "code",
      "source": [
        "!pip install num2words"
      ],
      "metadata": {
        "colab": {
          "base_uri": "https://localhost:8080/"
        },
        "id": "qFlMk_j-FXBi",
        "outputId": "c5a95a47-250e-4844-8f3c-d006455c4b4b"
      },
      "execution_count": null,
      "outputs": [
        {
          "output_type": "stream",
          "name": "stdout",
          "text": [
            "Looking in indexes: https://pypi.org/simple, https://us-python.pkg.dev/colab-wheels/public/simple/\n",
            "Collecting num2words\n",
            "  Downloading num2words-0.5.12-py3-none-any.whl (125 kB)\n",
            "\u001b[K     |████████████████████████████████| 125 kB 14.9 MB/s \n",
            "\u001b[?25hCollecting docopt>=0.6.2\n",
            "  Downloading docopt-0.6.2.tar.gz (25 kB)\n",
            "Building wheels for collected packages: docopt\n",
            "  Building wheel for docopt (setup.py) ... \u001b[?25l\u001b[?25hdone\n",
            "  Created wheel for docopt: filename=docopt-0.6.2-py2.py3-none-any.whl size=13723 sha256=b258f5ee29d1e2081aa18f46e6b5aefe80c159d98ae8a72df130b5c2f26c1580\n",
            "  Stored in directory: /root/.cache/pip/wheels/72/b0/3f/1d95f96ff986c7dfffe46ce2be4062f38ebd04b506c77c81b9\n",
            "Successfully built docopt\n",
            "Installing collected packages: docopt, num2words\n",
            "Successfully installed docopt-0.6.2 num2words-0.5.12\n"
          ]
        }
      ]
    },
    {
      "cell_type": "code",
      "source": [
        "!pip install faker"
      ],
      "metadata": {
        "colab": {
          "base_uri": "https://localhost:8080/"
        },
        "id": "wFczfStkFcqy",
        "outputId": "6df01826-13cb-4103-8d8b-177e00820535"
      },
      "execution_count": null,
      "outputs": [
        {
          "output_type": "stream",
          "name": "stdout",
          "text": [
            "Looking in indexes: https://pypi.org/simple, https://us-python.pkg.dev/colab-wheels/public/simple/\n",
            "Collecting faker\n",
            "  Downloading Faker-15.3.2-py3-none-any.whl (1.6 MB)\n",
            "\u001b[K     |████████████████████████████████| 1.6 MB 12.6 MB/s \n",
            "\u001b[?25hRequirement already satisfied: typing-extensions>=3.10.0.1 in /usr/local/lib/python3.7/dist-packages (from faker) (4.1.1)\n",
            "Requirement already satisfied: python-dateutil>=2.4 in /usr/local/lib/python3.7/dist-packages (from faker) (2.8.2)\n",
            "Requirement already satisfied: six>=1.5 in /usr/local/lib/python3.7/dist-packages (from python-dateutil>=2.4->faker) (1.15.0)\n",
            "Installing collected packages: faker\n",
            "Successfully installed faker-15.3.2\n"
          ]
        }
      ]
    },
    {
      "cell_type": "code",
      "source": [
        "!pip install wordcloud"
      ],
      "metadata": {
        "colab": {
          "base_uri": "https://localhost:8080/"
        },
        "id": "vs2Ress3Ffcb",
        "outputId": "acf0aeba-fc47-46a1-9d32-b355f31505be"
      },
      "execution_count": null,
      "outputs": [
        {
          "output_type": "stream",
          "name": "stdout",
          "text": [
            "Looking in indexes: https://pypi.org/simple, https://us-python.pkg.dev/colab-wheels/public/simple/\n",
            "Requirement already satisfied: wordcloud in /usr/local/lib/python3.7/dist-packages (1.8.2.2)\n",
            "Requirement already satisfied: numpy>=1.6.1 in /usr/local/lib/python3.7/dist-packages (from wordcloud) (1.21.6)\n",
            "Requirement already satisfied: pillow in /usr/local/lib/python3.7/dist-packages (from wordcloud) (7.1.2)\n",
            "Requirement already satisfied: matplotlib in /usr/local/lib/python3.7/dist-packages (from wordcloud) (3.2.2)\n",
            "Requirement already satisfied: python-dateutil>=2.1 in /usr/local/lib/python3.7/dist-packages (from matplotlib->wordcloud) (2.8.2)\n",
            "Requirement already satisfied: kiwisolver>=1.0.1 in /usr/local/lib/python3.7/dist-packages (from matplotlib->wordcloud) (1.4.4)\n",
            "Requirement already satisfied: pyparsing!=2.0.4,!=2.1.2,!=2.1.6,>=2.0.1 in /usr/local/lib/python3.7/dist-packages (from matplotlib->wordcloud) (3.0.9)\n",
            "Requirement already satisfied: cycler>=0.10 in /usr/local/lib/python3.7/dist-packages (from matplotlib->wordcloud) (0.11.0)\n",
            "Requirement already satisfied: typing-extensions in /usr/local/lib/python3.7/dist-packages (from kiwisolver>=1.0.1->matplotlib->wordcloud) (4.1.1)\n",
            "Requirement already satisfied: six>=1.5 in /usr/local/lib/python3.7/dist-packages (from python-dateutil>=2.1->matplotlib->wordcloud) (1.15.0)\n"
          ]
        }
      ]
    },
    {
      "cell_type": "markdown",
      "source": [
        "# **Importanto as bibliotecas**"
      ],
      "metadata": {
        "id": "YT2gJVL8Q21U"
      }
    },
    {
      "cell_type": "code",
      "source": [
        "import matplotlib.pyplot as plt\n",
        "import numpy as np\n",
        "import pandas as pd\n",
        "import random\n",
        "\n",
        "from num2words import num2words\n",
        "from wordcloud import WordCloud\n",
        "from faker import Faker"
      ],
      "metadata": {
        "id": "ulfrcDfmRI8X"
      },
      "execution_count": null,
      "outputs": []
    },
    {
      "cell_type": "markdown",
      "source": [
        "# **Variáveis globais**"
      ],
      "metadata": {
        "id": "VCf6wQ4-RNq3"
      }
    },
    {
      "cell_type": "code",
      "source": [
        "fake = Faker('pt_br')\n",
        "n = int(input(f'Digite o número de pessoas: '))\n",
        "lista_nomes = []\n",
        "lista_notas = []"
      ],
      "metadata": {
        "id": "62A7eWR0RRVv",
        "colab": {
          "base_uri": "https://localhost:8080/"
        },
        "outputId": "1474363f-d676-489c-a5a5-587528776a2d"
      },
      "execution_count": null,
      "outputs": [
        {
          "name": "stdout",
          "output_type": "stream",
          "text": [
            "Digite o número de pessoas: 20\n"
          ]
        }
      ]
    },
    {
      "cell_type": "markdown",
      "source": [
        "# **Criando e gravando no arquivo**"
      ],
      "metadata": {
        "id": "tZ1RM69QI1MP"
      }
    },
    {
      "cell_type": "code",
      "source": [
        "with open(\"arquivo.txt\", \"w\") as arquivo:\n",
        "  for i in range(n):\n",
        "    nome = fake.first_name() + \" \" + fake.last_name() #não usei apenas o name(), pois ele gera pronomes de tratamento\n",
        "    ponto = str(random.randint(0,10))\n",
        "    resultado = nome + \" \" + ponto + \"\\n\"\n",
        "    arquivo.write(resultado)"
      ],
      "metadata": {
        "id": "wUKytlsjOrDw"
      },
      "execution_count": null,
      "outputs": []
    },
    {
      "cell_type": "markdown",
      "source": [
        "# **Lendo o arquivo e recuperando dados**"
      ],
      "metadata": {
        "id": "qNBqEcGzX26F"
      }
    },
    {
      "cell_type": "code",
      "source": [
        "with open(\"arquivo.txt\", \"r\") as recuperar:\n",
        "  for i in range(n):\n",
        "    ler_conteudo = recuperar.readline() #lendo as linha do arquivo\n",
        "    separar_conteudo = ler_conteudo.split(' ') #separando nomes das notas\n",
        "    ler_notas = int(separar_conteudo[-1]) #pegando a pontuação e transformando em números inteiros, ao invés de string\n",
        "    lista_notas.append(ler_notas) #adicionando pontuações numa lista\n",
        "    lista_nomes_ext = num2words(ler_notas, lang = 'pt_br') #colocando os números em extenso\n",
        "    lista_nomes.append(lista_nomes_ext) #adicionando os pontos por extenso na lista\n",
        "    lista_nomes_str = (\" \").join(lista_nomes) #colocando todos os pontos em uma string\n"
      ],
      "metadata": {
        "id": "z7D5tNihIzoe"
      },
      "execution_count": null,
      "outputs": []
    },
    {
      "cell_type": "markdown",
      "source": [
        "# **Gerando o histograma**"
      ],
      "metadata": {
        "id": "D-j0DDQ8Yqj2"
      }
    },
    {
      "cell_type": "code",
      "source": [
        "plt.title('Histograma das Pontuações')\n",
        "plt.xlabel('Pontuações')\n",
        "plt.ylabel('Probabilidade')\n",
        "plt.xlim(-0.5,10.5) #0.5 a mais e a menos, pro gráfico ficar bonito\n",
        "plt.hist(lista_notas, bins=np.arange(-0.5,11), density=True, align=\"mid\", rwidth=0.9) #criando a probabilidade no gráfico e mais coisinhas pra deixar ele bonito\n",
        "plt.show()"
      ],
      "metadata": {
        "colab": {
          "base_uri": "https://localhost:8080/",
          "height": 295
        },
        "id": "EtUp9TGqXqIY",
        "outputId": "6ab3ee72-d859-4a1f-a363-9137954dedaf"
      },
      "execution_count": null,
      "outputs": [
        {
          "output_type": "display_data",
          "data": {
            "text/plain": [
              "<Figure size 432x288 with 1 Axes>"
            ],
            "image/png": "[encoded data removed]"
          },
          "metadata": {
            "needs_background": "light"
          }
        }
      ]
    },
    {
      "cell_type": "markdown",
      "source": [
        "# **Gerando a nuvem de palavras**"
      ],
      "metadata": {
        "id": "bO2z97YuXkwP"
      }
    },
    {
      "cell_type": "code",
      "source": [
        "#gerando a nuvem de palavras usando a string com a pontuação por extenso\n",
        "wordcloud = WordCloud().generate(lista_nomes_str) #jogando a string de numeros extensos na nuvem de palavras\n",
        "plt.imshow(wordcloud, interpolation='bilinear')\n",
        "plt.axis('off')\n",
        "plt.show()\n",
        "wordcloud.to_file(\"NuvemDePalavras.png\")\n",
        "recuperar.close()"
      ],
      "metadata": {
        "colab": {
          "base_uri": "https://localhost:8080/",
          "height": 198
        },
        "id": "Yjhsb6MqYxvL",
        "outputId": "0dca3fe5-e0bf-4336-e531-650b37780a03"
      },
      "execution_count": null,
      "outputs": [
        {
          "output_type": "display_data",
          "data": {
            "text/plain": [
              "<Figure size 432x288 with 1 Axes>"
            ],
            "image/png": "[encoded data removed]"
          },
          "metadata": {
            "needs_background": "light"
          }
        }
      ]
    },
    {
      "cell_type": "markdown",
      "source": [
        "# **Análise e Conclusão**\n",
        "\n",
        "\n",
        "\n"
      ],
      "metadata": {
        "id": "FTdcC0zMn0Za"
      }
    },
    {
      "cell_type": "markdown",
      "source": [
        "Qual a importância de manipular arquivos de texto?\n",
        "\n",
        "Resposta: Manipular arquivos de texto nos permite pegar os dados, ou separá-los, para que possam ser utilizados em outras fontes, como gráficos, planilhas, etc.\n",
        "\n",
        "Qual a importância de visualizar os dados em um histograma?\n",
        "\n",
        "Resposta: O histograma nos permite analisar os dados estatísticamente. Através dele fica mais fácil ler e identificar probabilidades, principalmente com quantidades muito grandes de dados.\n",
        "\n",
        "O que significa a visualização por nuvem de palavras?\n",
        "\n",
        "Resposta: A nuvem de palavras destaca a palavra mais usada, ou de maior importância. Ela nos permite analisar textos, visualizar e comparar os temas que estão em evidência."
      ],
      "metadata": {
        "id": "tuUhR56Qn5T5"
      }
    }
  ]
}