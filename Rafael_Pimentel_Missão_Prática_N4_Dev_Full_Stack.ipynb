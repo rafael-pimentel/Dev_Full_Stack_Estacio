{
  "nbformat": 4,
  "nbformat_minor": 0,
  "metadata": {
    "colab": {
      "provenance": [],
      "authorship_tag": "ABX9TyP11yBs9aEMjlkJOBM7gX4o",
      "include_colab_link": true
    },
    "kernelspec": {
      "name": "python3",
      "display_name": "Python 3"
    },
    "language_info": {
      "name": "python"
    }
  },
  "cells": [
    {
      "cell_type": "markdown",
      "metadata": {
        "id": "view-in-github",
        "colab_type": "text"
      },
      "source": [
        "<a href=\"https://colab.research.google.com/github/rafael-pimentel/Dev_Full_Stack_Estacio/blob/main/Rafael_Pimentel_Miss%C3%A3o_Pr%C3%A1tica_N4_Dev_Full_Stack.ipynb\" target=\"_parent\"><img src=\"https://colab.research.google.com/assets/colab-badge.svg\" alt=\"Open In Colab\"/></a>"
      ]
    },
    {
      "cell_type": "code",
      "execution_count": null,
      "metadata": {
        "id": "zbwa5d-HWy1C"
      },
      "outputs": [],
      "source": [
        "#Nível 4: Conhecendo Novos Paradigmas   \n",
        "#Tutor: Jhonatan Alves\n",
        "#Descrição: Implementar um programa orientado a objetos para visualizar e aplicar regressão linear em séries temporais\n",
        "#Autor(a): Rafael Souza Pimentel\n",
        "#Data atual: \n",
        "\n",
        "#CLASS DESPESAS\n",
        "class Despesa:  \n",
        "    def __init__(self, dicionario, cor, titulo):\n",
        "        self.dicionario = dicionario\n",
        "        self.cor = cor\n",
        "        self.titulo = titulo\n",
        "\n",
        "#DADOS\n",
        "alimentacao = Despesa({1:40, 2:50, 3:60, 4:30, 5:30, 6:30, 7:18},'skyblue', 'Alimentação')\n",
        "vestuario = Despesa({1:20, 2:0, 3:0, 4:0, 5:0, 6:0, 7:0}, 'red', 'Vestuário')\n",
        "transporte = Despesa({1:10, 2:15, 3:0, 4:10, 5:7, 6:0, 7:0},'olive', 'julho')\n",
        "lista_despesas = [alimentacao,vestuario,transporte]\n",
        "\n",
        "#CLASS GRAFICO\n",
        "from sklearn.linear_model import LinearRegression\n",
        "import numpy as np\n",
        "import matplotlib.pyplot as plt\n",
        "\n",
        "class Grafico:  \n",
        "  def __init__(self, lista_despesas):\n",
        "    self.lista_despesas= lista_despesas\n",
        "    self.imprimir_graficos()\n",
        "\n",
        "  def padrao_do_grafico(self):\n",
        "    plt.xlabel('Dia')\n",
        "    plt.ylabel('Despesa em R$')\n",
        "    plt.title('Gráficos de Despesas')    \n",
        "\n",
        "  def imprimir_graficos(self):\n",
        "    self.padrao_do_grafico()\n",
        "    for despesa in self.lista_despesas:\n",
        "      mLista = despesa.dicionario.items()\n",
        "      cor = despesa.cor\n",
        "      nome = despesa.titulo\n",
        "      x, y = zip(*mLista)\n",
        "      plt.plot(x, y, label = nome, marker='o', \n",
        "               markerfacecolor='blue', \n",
        "               markersize=12, \n",
        "               color=cor, \n",
        "               linewidth=4)\n",
        "    plt.legend()\n",
        "    plt.show()\n",
        "\n",
        "  def regressao_linear(self, id_grafico):\n",
        "    despesa = self.lista_despesas[id_grafico]\n",
        "    mLista = despesa.dicionario.items()    \n",
        "    cor = despesa.cor\n",
        "    nome = despesa.titulo\n",
        "    dias, valores = zip(*mLista)\n",
        "    dias = np.array(dias)\n",
        "    valores = np.array(valores)\n",
        "    dias = dias.reshape(-1, 1)\n",
        "    valores = valores.reshape(-1, 1)\n",
        "    regr = LinearRegression()\n",
        "    regr.fit(X=dias, y=valores)\n",
        "    plt.plot(dias, regr.predict(dias), \n",
        "             color='blue',\n",
        "             label = \"Regressão Linear\")\n",
        "\n",
        "    x, y = zip(*mLista)\n",
        "    plt.plot(x, y, label = nome+str(\" - original\"), \n",
        "             marker='o', \n",
        "             markerfacecolor='olive', \n",
        "             markersize=12, \n",
        "             color=cor, \n",
        "             linewidth=4)\n",
        "\n",
        "    plt.legend()\n",
        "    plt.show()\n",
        "\n",
        "#GRÁFICO DESEMPENHO\n",
        "grafico = Grafico(lista_despesas)\n",
        "\n",
        "#GRÁFICO REGRESSÃO \n",
        "id_mes = 0 #mês de maio\n",
        "grafico.regressao_linear(id_mes)"
      ]
    }
  ]
}