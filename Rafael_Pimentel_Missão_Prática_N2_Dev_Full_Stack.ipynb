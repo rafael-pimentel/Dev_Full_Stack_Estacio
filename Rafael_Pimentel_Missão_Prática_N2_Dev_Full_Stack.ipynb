{
  "nbformat": 4,
  "nbformat_minor": 0,
  "metadata": {
    "colab": {
      "provenance": [],
      "authorship_tag": "ABX9TyNQHu/xb6AI0+DYGpDZzwCT",
      "include_colab_link": true
    },
    "kernelspec": {
      "name": "python3",
      "display_name": "Python 3"
    },
    "language_info": {
      "name": "python"
    }
  },
  "cells": [
    {
      "cell_type": "markdown",
      "metadata": {
        "id": "view-in-github",
        "colab_type": "text"
      },
      "source": [
        "<a href=\"https://colab.research.google.com/github/rafael-pimentel/Dev_Full_Stack_Estacio/blob/main/Rafael_Pimentel_Miss%C3%A3o_Pr%C3%A1tica_N2_Dev_Full_Stack.ipynb\" target=\"_parent\"><img src=\"https://colab.research.google.com/assets/colab-badge.svg\" alt=\"Open In Colab\"/></a>"
      ]
    },
    {
      "cell_type": "code",
      "source": [
        "#Nível 2: Vamos Iniciar a Jornada?\n",
        "#Tutor: Andre Luiz Avelino Sobral\n",
        "#Descrição: Crie outras células de código para implementar o algoritmo de conversão de um número na base decimal para seu respectivo correspondente na base binária..\n",
        "#Autor(a): Rafael Souza Pimentel\n",
        "#Data atual: 05/11/2022\n",
        "\n",
        "#DIGITE O NÚMERO QUE DESEJA VERIFICAR A CONVERSÃO EM BINÁRIO\n",
        "decimal = 23\n",
        "numero_digitado = decimal\n",
        "quociente = 1 \n",
        "lista = []\n",
        "\n",
        "#CALCULO DA OPERAÇÃO\n",
        "while quociente >= 1:\n",
        "  resto = decimal%2\n",
        "  lista.insert(0,resto)\n",
        "  quociente = decimal // 2\n",
        "  decimal = quociente\n",
        "\n",
        "#PRINT\n",
        "binario = ''.join([str(item) for item in lista])\n",
        "print(f'Número na base decimal: {numero_digitado}')\n",
        "print(f'Conversão para base binária: {binario}')\n",
        "\n"
      ],
      "metadata": {
        "colab": {
          "base_uri": "https://localhost:8080/"
        },
        "id": "X2Mq2ib8QqUi",
        "outputId": "0d37f92c-14cc-4244-953a-073974640024"
      },
      "execution_count": null,
      "outputs": [
        {
          "output_type": "stream",
          "name": "stdout",
          "text": [
            "Número na base decimal: 23\n",
            "Conversão para base binária: 10111\n"
          ]
        }
      ]
    }
  ]
}